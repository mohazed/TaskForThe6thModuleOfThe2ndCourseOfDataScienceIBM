{
  "nbformat": 4,
  "nbformat_minor": 0,
  "metadata": {
    "colab": {
      "provenance": []
    },
    "kernelspec": {
      "name": "python3",
      "display_name": "Python 3"
    },
    "language_info": {
      "name": "python"
    }
  },
  "cells": [
    {
      "cell_type": "markdown",
      "source": [
        "# Task For The 6th Module Of The 2nd Course Of Data Science IBM"
      ],
      "metadata": {
        "id": "VJHvZ1R4UUKK"
      }
    },
    {
      "cell_type": "markdown",
      "source": [
        "## Introduction\n",
        "In this notebook i am providing an overview of various data science concepts and examples as asked in the task."
      ],
      "metadata": {
        "id": "S_lLW8fFUcSt"
      }
    },
    {
      "cell_type": "markdown",
      "source": [
        "## Data Science Languages\n",
        "- Python\n",
        "- R\n",
        "- SQL\n",
        "- Scala\n",
        "- Julia sometiemes as well\n"
      ],
      "metadata": {
        "id": "K_7DCOKsUmXd"
      }
    },
    {
      "cell_type": "markdown",
      "source": [
        "## Data Science Libraries\n",
        "- Pandas\n",
        "- NumPy\n",
        "- Matplotlib\n",
        "- Scikit-learn\n",
        "- TensorFlow\n",
        "- Keras\n"
      ],
      "metadata": {
        "id": "Ot3l-ABIU21k"
      }
    },
    {
      "cell_type": "markdown",
      "source": [
        "## Data Science Tools\n",
        "| Tool           | Description                        |\n",
        "|----------------|------------------------------------|\n",
        "| Jupyter Notebook | Interactive computing environment (which i am using right now)|\n",
        "| RStudio        | IDE for R                          |\n",
        "| Apache Spark   | Cluster-computing framework        |\n",
        "| others. | there are many other important tools that are used in Data Science|\n"
      ],
      "metadata": {
        "id": "VkpgkASvU3he"
      }
    },
    {
      "cell_type": "markdown",
      "source": [
        "## Arithmetic Expression Examples\n",
        "Below are examples of arithmetic operations:\n"
      ],
      "metadata": {
        "id": "iLXzv1-7VLlL"
      }
    },
    {
      "cell_type": "code",
      "source": [
        "# Multiply and add numbers\n",
        "result = (8 * 4) + 5\n",
        "result\n"
      ],
      "metadata": {
        "colab": {
          "base_uri": "https://localhost:8080/"
        },
        "id": "BF2ZyQ3LVL9g",
        "outputId": "9c8689d4-9f69-4432-ef5e-ddbaf696d626"
      },
      "execution_count": 3,
      "outputs": [
        {
          "output_type": "execute_result",
          "data": {
            "text/plain": [
              "37"
            ]
          },
          "metadata": {},
          "execution_count": 3
        }
      ]
    },
    {
      "cell_type": "code",
      "source": [
        "# Convert minutes to hours\n",
        "minutes = 120\n",
        "hours = minutes / 60\n",
        "hours\n"
      ],
      "metadata": {
        "colab": {
          "base_uri": "https://localhost:8080/"
        },
        "id": "MDPQ4WBjVUA3",
        "outputId": "26b403dc-8a47-4aeb-e941-4461dd543d6f"
      },
      "execution_count": 4,
      "outputs": [
        {
          "output_type": "execute_result",
          "data": {
            "text/plain": [
              "2.0"
            ]
          },
          "metadata": {},
          "execution_count": 4
        }
      ]
    },
    {
      "cell_type": "markdown",
      "source": [
        "## Objectives\n",
        "- Learn about data science languages\n",
        "- Understand data science libraries\n",
        "- Explore data science different tools\n",
        "- Practice arithmetic operations as in the cell before.\n"
      ],
      "metadata": {
        "id": "SmYozItmVZa7"
      }
    },
    {
      "cell_type": "markdown",
      "source": [
        "## Author\n",
        "Mohamed ZOUAD\n"
      ],
      "metadata": {
        "id": "nE7nULLBVdnk"
      }
    }
  ]
}